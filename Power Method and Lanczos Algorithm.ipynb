{
 "cells": [
  {
   "cell_type": "code",
   "execution_count": 1,
   "id": "44b20b7b",
   "metadata": {},
   "outputs": [],
   "source": [
    "import numpy as np\n",
    "import numpy.linalg as LA\n",
    "import matplotlib.pyplot as plt"
   ]
  },
  {
   "cell_type": "markdown",
   "id": "5d6ec866",
   "metadata": {},
   "source": [
    "# Power Method and Lanczos Algorithm"
   ]
  },
  {
   "cell_type": "markdown",
   "id": "43848ee7",
   "metadata": {},
   "source": [
    "## Power Method"
   ]
  },
  {
   "cell_type": "markdown",
   "id": "c0506c54",
   "metadata": {},
   "source": [
    "This is an algorithm fo find the dominant eigenvalue (largest in magnitude) and its corresponding eigenvector of a square matrix.\n",
    "\n",
    "To find the eigenvector corresponding to the dominant eigenvalue for matrix M:\n",
    "1) Randomly choose an initial guess for the eigenvector $\\mathbf{v}_0$   \n",
    "2) Compute $\\mathbf{v}_0=M\\mathbf{v}_0$   \n",
    "3) Normalize $\\mathbf{v}_0$   \n",
    "If the result converges, break out. If not, continue from step 2."
   ]
  },
  {
   "cell_type": "code",
   "execution_count": 2,
   "id": "16d96544",
   "metadata": {},
   "outputs": [],
   "source": [
    "def power_method(M , max_iter = 1e6):\n",
    "    \n",
    "    n = M.shape[1]\n",
    "    x = np.random.random(n)\n",
    "    \n",
    "    # Go until the gap between two iterations is less than a tolerance\n",
    "    tol = 1e-10\n",
    "    gap = 1\n",
    "    \n",
    "    cur_iter = 0\n",
    "    \n",
    "    while gap>tol:\n",
    "        \n",
    "        if cur_iter > max_iter:\n",
    "           break\n",
    "        \n",
    "        old_x = x\n",
    "        x = np.dot(M,x)\n",
    "        x = x / LA.norm(x)\n",
    "        gap = abs(LA.norm(x - old_x))\n",
    "        cur_iter +=1\n",
    "    \n",
    "    print(\"The eigenvector of the largest eigenvalue is : \", x)\n",
    "    return x"
   ]
  },
  {
   "cell_type": "code",
   "execution_count": 3,
   "id": "e9d0544b",
   "metadata": {},
   "outputs": [
    {
     "name": "stdout",
     "output_type": "stream",
     "text": [
      "The eigenvector of the largest eigenvalue is :  [0.43672143 0.68942623 0.5778978 ]\n"
     ]
    }
   ],
   "source": [
    "M = np.array([ [1,0,0], [0,1,0], [0,0,1]])\n",
    "x = power_method(M)"
   ]
  },
  {
   "cell_type": "code",
   "execution_count": 4,
   "id": "2def3118",
   "metadata": {},
   "outputs": [
    {
     "name": "stdout",
     "output_type": "stream",
     "text": [
      "The eigenvector of the largest eigenvalue is :  [-1.00000000e+00 -2.46161097e-11  4.92322191e-11]\n"
     ]
    }
   ],
   "source": [
    "M = np.array([ [5,-3,-3], [0,-4,-3], [0,6,5]])\n",
    "x = power_method(M)"
   ]
  },
  {
   "cell_type": "code",
   "execution_count": 5,
   "id": "d6b29e3b",
   "metadata": {},
   "outputs": [
    {
     "data": {
      "text/plain": [
       "array([5.        , 1.99999996, 1.99999998])"
      ]
     },
     "execution_count": 5,
     "metadata": {},
     "output_type": "execute_result"
    }
   ],
   "source": [
    "# Get the largest eigenvalue by\n",
    "np.dot(M,x)/x"
   ]
  },
  {
   "cell_type": "markdown",
   "id": "2566b552",
   "metadata": {},
   "source": [
    "Apparently the largest one is the largest eigenvalue."
   ]
  },
  {
   "cell_type": "code",
   "execution_count": 6,
   "id": "05debfa1",
   "metadata": {},
   "outputs": [
    {
     "data": {
      "text/plain": [
       "(array([ 5., -1.,  2.]),\n",
       " array([[ 1.        ,  0.        , -0.40824829],\n",
       "        [ 0.        , -0.70710678,  0.40824829],\n",
       "        [ 0.        ,  0.70710678, -0.81649658]]))"
      ]
     },
     "execution_count": 6,
     "metadata": {},
     "output_type": "execute_result"
    }
   ],
   "source": [
    "# Check the result by this function\n",
    "LA.eig(M)"
   ]
  },
  {
   "cell_type": "markdown",
   "id": "0ff5f0b8",
   "metadata": {},
   "source": [
    "## Lanczos Algorithm (Simplified)"
   ]
  },
  {
   "cell_type": "markdown",
   "id": "4a63b93a",
   "metadata": {},
   "source": [
    "This algorithm will find the eigenvectors in order of the size of the absolute value of the eigenvalue.\n",
    "\n",
    "To find the eigenvector corresponding to the $k$ th largest eigenvalue:\n",
    "1) Start with a randomly chosen vector $\\mathbf{x}_0$       \n",
    "2) Replace $\\mathbf{x}_0$ with its projection of previously found eigenvectors\n",
    "\n",
    "$$\\mathbf{x}_0'=\\mathbf{x}_0-\\sum^{k-1}_{i=1}(\\mathbf{x_0}\\cdot\\mathbf{v_i})\\mathbf{v}_i$$\n",
    "3) Find $A\\mathbf{x}_0'$ then normalise it to get $\\mathbf{x_1}$\n",
    "\n",
    "If the result converges, break out. If not, return to step 2 and continue.\n",
    "\n",
    "Note that this algorithm does not works for matrix than have repeated eigenvalues. Also, the matrix has to be symmetric."
   ]
  },
  {
   "cell_type": "code",
   "execution_count": 7,
   "id": "289a5599",
   "metadata": {
    "scrolled": true
   },
   "outputs": [
    {
     "data": {
      "text/plain": [
       "(array([6.13263749, 3.14043537, 0.72692714]),\n",
       " array([[ 0.54551277,  0.83043746,  0.11309038],\n",
       "        [ 0.4683588 , -0.19016213, -0.86283161],\n",
       "        [ 0.69502219, -0.52365254,  0.49267857]]))"
      ]
     },
     "execution_count": 7,
     "metadata": {},
     "output_type": "execute_result"
    }
   ],
   "source": [
    "M = np.array([[4,1,1],[1,2,2],[1,2,4]])\n",
    "LA.eig(M)"
   ]
  },
  {
   "cell_type": "code",
   "execution_count": 8,
   "id": "97ddb787",
   "metadata": {},
   "outputs": [],
   "source": [
    "def simple_lanczos(M):\n",
    "    \n",
    "    # Initialize lists to store eigenvectors and eigenvalues\n",
    "    eigenvectors = []\n",
    "    eigenvalues =[]\n",
    "    \n",
    "    # Set tolerance level for convergence\n",
    "    tol = 1e-8\n",
    "    \n",
    "    # Iterate over each eigenvalue/vector\n",
    "    for i in range(0,M.shape[0]): \n",
    "        \n",
    "        v = np.random.rand(M.shape[0])\n",
    "        gap = 1\n",
    "        \n",
    "        while gap > tol:\n",
    "            old_v = v\n",
    "            \n",
    "            # Orthogonalize v against previous eigenvectors\n",
    "            a = sum(np.dot(v,vec)* vec for vec in eigenvectors)\n",
    "            v = v - a\n",
    "            \n",
    "            v = np.dot(M,v) \n",
    "            \n",
    "            # Normalize\n",
    "            v = v / LA.norm(v)\n",
    "            gap = LA.norm(v - old_v)\n",
    "            \n",
    "        eigenvectors.append(v)\n",
    "        eigenvalues.append((np.dot(M,v)/v)[0])\n",
    "    \n",
    "    eigenvectors = np.array(eigenvectors).T\n",
    "                           \n",
    "    return (eigenvalues, eigenvectors)"
   ]
  },
  {
   "cell_type": "code",
   "execution_count": 9,
   "id": "aff8b1fe",
   "metadata": {},
   "outputs": [
    {
     "name": "stdout",
     "output_type": "stream",
     "text": [
      "Eigenvalues : [6.132637540357114, 3.1404354093960163, 0.7269272512540828]\n",
      "Eigenvectors :\n",
      "[[ 0.54551276 -0.83043747 -0.11309038]\n",
      " [ 0.46835881  0.19016212  0.86283162]\n",
      " [ 0.6950222   0.52365253 -0.49267856]]\n"
     ]
    }
   ],
   "source": [
    "evalues, evectors = simple_lanczos(M)\n",
    "print(\"Eigenvalues :\", evalues)\n",
    "print(\"Eigenvectors :\")\n",
    "print(evectors)"
   ]
  },
  {
   "cell_type": "markdown",
   "id": "26b9b2a8",
   "metadata": {},
   "source": [
    "## Lanczos Algorithm"
   ]
  },
  {
   "cell_type": "markdown",
   "id": "5dafe256",
   "metadata": {},
   "source": [
    "The Lanczos algorithm is an iterative method used for finding a few eigenvalues and eigenvectors of a large, hermitian matrix. \n",
    "\n",
    "For matrix $M$:\n",
    "1) Randomly choose $\\mathbf{v}_0$ of length $k$   \n",
    "2) Initilize matrices $L$ and $H$ so size $k\\times k$    \n",
    "3) Compute $w=Mv_j$, $j$ is the current iteration number   \n",
    "4) Orthogonalize $w$ against the previous Lanczos vectors $w=w-b_{j-1}v_{j-1}-a_jv_j$     \n",
    "5) Compute the next Lanczos vector $v_{j+1}$ as the normalized orthogonalized $w$   \n",
    "6) Upgrade the tridiagonal matrix $H$ with $a$ and $b$\n",
    "\n",
    "After $k$ iterations, the algorithm generates a tridiagonal matrix $H$, use it to obtain a few eigenvalues and eigenvectors"
   ]
  },
  {
   "cell_type": "code",
   "execution_count": 10,
   "id": "7ecb25e7",
   "metadata": {},
   "outputs": [],
   "source": [
    "def lanczos_algorithm(A, k):\n",
    "    v = np.random.rand(k)\n",
    "    \n",
    "    L = np.zeros((k,k),dtype = complex)\n",
    "    H = np.zeros((k,k),dtype = complex)\n",
    "    \n",
    "    L[0] = v/LA.norm(v)\n",
    "    \n",
    "    w = np.dot(A,L[0])\n",
    "    a = np.dot(np.conj(w),L[0])\n",
    "    w = w- a*L[0]\n",
    "    H[0,0]=a\n",
    "    \n",
    "    for j in range(1,len(v)):\n",
    "        b = (np.dot(np.conj(w),np.transpose(w)))**0.5\n",
    "        L[j]=w/b\n",
    "        \n",
    "        w = np.dot(A,L[j])\n",
    "        a = np.dot(np.conj(w) , L[j])\n",
    "        w = w - a * L[j] - b* L[j-1]\n",
    "        \n",
    "        H[j,j]=a\n",
    "        H[j-1,j]=b\n",
    "        H[j,j-1]= b\n",
    "        \n",
    "    return (H,L)"
   ]
  },
  {
   "cell_type": "code",
   "execution_count": 11,
   "id": "c73f6fed",
   "metadata": {},
   "outputs": [
    {
     "name": "stdout",
     "output_type": "stream",
     "text": [
      "Eigenvalues (Lanczos): [0.72692714 3.14043537 6.13263749]\n",
      "Eigenvectors (Lanczos):\n",
      "[[-0.11309038+0.j  0.83043746+0.j -0.54551277+0.j]\n",
      " [ 0.86283161+0.j -0.19016213+0.j -0.4683588 +0.j]\n",
      " [-0.49267857+0.j -0.52365254+0.j -0.69502219+0.j]]\n",
      "\n",
      "Eigenvalues (numpy): [0.72692714 3.14043537 6.13263749]\n",
      "Eigenvectors (numpy):\n",
      "[[ 0.11309038 -0.83043746 -0.54551277]\n",
      " [-0.86283161  0.19016213 -0.4683588 ]\n",
      " [ 0.49267857  0.52365254 -0.69502219]]\n"
     ]
    }
   ],
   "source": [
    "# Example \n",
    "k =3\n",
    "A = np.array([[4,1,1],[1,2,2],[1,2,4]])\n",
    "\n",
    "# Compute eigenvalues and eigenvectors using Lanczos algorithm\n",
    "H,L = lanczos_algorithm(A,k)\n",
    "lanczos_eigenvalues = LA.eigh(H)[0]\n",
    "lanczos_eigenvectors = np.dot(LA.eigh(H)[1].T,L).T\n",
    "\n",
    "# Compute eigenvalues and eigenvectors using numpy\n",
    "numpy_eigenvalues, numpy_eigenvectors = LA.eigh(A)\n",
    "\n",
    "\n",
    "# Compare the results\n",
    "print(\"Eigenvalues (Lanczos):\", lanczos_eigenvalues)\n",
    "print(\"Eigenvectors (Lanczos):\")\n",
    "print(lanczos_eigenvectors)\n",
    "print()\n",
    "\n",
    "print(\"Eigenvalues (numpy):\", numpy_eigenvalues)\n",
    "print(\"Eigenvectors (numpy):\")\n",
    "print(numpy_eigenvectors)"
   ]
  },
  {
   "cell_type": "code",
   "execution_count": null,
   "id": "bd09a717",
   "metadata": {},
   "outputs": [],
   "source": []
  }
 ],
 "metadata": {
  "kernelspec": {
   "display_name": "Python 3 (ipykernel)",
   "language": "python",
   "name": "python3"
  },
  "language_info": {
   "codemirror_mode": {
    "name": "ipython",
    "version": 3
   },
   "file_extension": ".py",
   "mimetype": "text/x-python",
   "name": "python",
   "nbconvert_exporter": "python",
   "pygments_lexer": "ipython3",
   "version": "3.9.13"
  }
 },
 "nbformat": 4,
 "nbformat_minor": 5
}
